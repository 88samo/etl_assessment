{
 "cells": [
  {
   "cell_type": "code",
   "execution_count": 1,
   "metadata": {},
   "outputs": [],
   "source": [
    "import pandas as pd\n",
    "import json\n",
    "import os"
   ]
  },
  {
   "cell_type": "code",
   "execution_count": 2,
   "metadata": {},
   "outputs": [],
   "source": [
    "path = '/Users\\Samuel.Malec\\Preqin\\ETL_assessment'\n",
    "os.chdir(path)"
   ]
  },
  {
   "cell_type": "markdown",
   "metadata": {},
   "source": [
    "## <font color=navy> Approach1: Loading tables from CSV\n",
    "</font>"
   ]
  },
  {
   "cell_type": "markdown",
   "metadata": {},
   "source": [
    "##### <font color=red>Creating dimensions:</font>"
   ]
  },
  {
   "cell_type": "code",
   "execution_count": 3,
   "metadata": {},
   "outputs": [],
   "source": [
    "dim_ac = pd.read_csv('AssetClass.csv')\n",
    "dim_geo = pd.read_csv('Countries.csv')\n",
    "dim_firmAdr = pd.read_csv('FirmAdrs.csv')\n",
    "dim_adr = pd.read_csv('Adrs.csv')"
   ]
  },
  {
   "cell_type": "markdown",
   "metadata": {},
   "source": [
    "##### <font color=red>Creating a Fact table:</font>"
   ]
  },
  {
   "cell_type": "code",
   "execution_count": 4,
   "metadata": {},
   "outputs": [],
   "source": [
    "fact_firms = pd.read_csv('Firms.csv')"
   ]
  },
  {
   "cell_type": "markdown",
   "metadata": {},
   "source": [
    "#### Renaming columns "
   ]
  },
  {
   "cell_type": "code",
   "execution_count": 5,
   "metadata": {},
   "outputs": [],
   "source": [
    "dim_ac = dim_ac.rename(columns={'id':'asset_class_id'})\n",
    "dim_adr = dim_adr.rename(columns={'id':'address_id'})\n",
    "dim_geo = dim_geo.rename(columns = {'id': 'country_id'})\n",
    "fact_firms = fact_firms.rename(columns = {'id': 'firm_id'})"
   ]
  },
  {
   "cell_type": "markdown",
   "metadata": {},
   "source": [
    "#### Merging tables"
   ]
  },
  {
   "cell_type": "code",
   "execution_count": 7,
   "metadata": {},
   "outputs": [
    {
     "data": {
      "text/html": [
       "<div>\n",
       "<style scoped>\n",
       "    .dataframe tbody tr th:only-of-type {\n",
       "        vertical-align: middle;\n",
       "    }\n",
       "\n",
       "    .dataframe tbody tr th {\n",
       "        vertical-align: top;\n",
       "    }\n",
       "\n",
       "    .dataframe thead th {\n",
       "        text-align: right;\n",
       "    }\n",
       "</style>\n",
       "<table border=\"1\" class=\"dataframe\">\n",
       "  <thead>\n",
       "    <tr style=\"text-align: right;\">\n",
       "      <th></th>\n",
       "      <th>firm_id</th>\n",
       "      <th>firm_name</th>\n",
       "      <th>asset_class_id</th>\n",
       "      <th>aum_mn</th>\n",
       "      <th>firm_currency</th>\n",
       "      <th>asset_class</th>\n",
       "      <th>address_id</th>\n",
       "      <th>line_1</th>\n",
       "      <th>line_2</th>\n",
       "      <th>country_id</th>\n",
       "      <th>country_name</th>\n",
       "    </tr>\n",
       "  </thead>\n",
       "  <tbody>\n",
       "    <tr>\n",
       "      <td>0</td>\n",
       "      <td>1</td>\n",
       "      <td>Large investment Co</td>\n",
       "      <td>1</td>\n",
       "      <td>1241</td>\n",
       "      <td>EUR</td>\n",
       "      <td>Private Equity</td>\n",
       "      <td>1</td>\n",
       "      <td>123 Investment Street</td>\n",
       "      <td>Paris 1234</td>\n",
       "      <td>1</td>\n",
       "      <td>France</td>\n",
       "    </tr>\n",
       "    <tr>\n",
       "      <td>1</td>\n",
       "      <td>1</td>\n",
       "      <td>Large investment Co</td>\n",
       "      <td>1</td>\n",
       "      <td>1241</td>\n",
       "      <td>EUR</td>\n",
       "      <td>Private Equity</td>\n",
       "      <td>2</td>\n",
       "      <td>10 Second Rue</td>\n",
       "      <td>Paris 1234</td>\n",
       "      <td>1</td>\n",
       "      <td>France</td>\n",
       "    </tr>\n",
       "    <tr>\n",
       "      <td>2</td>\n",
       "      <td>2</td>\n",
       "      <td>Investment Co subsidiary</td>\n",
       "      <td>2</td>\n",
       "      <td>42</td>\n",
       "      <td>EUR</td>\n",
       "      <td>Private Debt</td>\n",
       "      <td>2</td>\n",
       "      <td>10 Second Rue</td>\n",
       "      <td>Paris 1234</td>\n",
       "      <td>1</td>\n",
       "      <td>France</td>\n",
       "    </tr>\n",
       "    <tr>\n",
       "      <td>3</td>\n",
       "      <td>3</td>\n",
       "      <td>Competing Alt Investments</td>\n",
       "      <td>5</td>\n",
       "      <td>140</td>\n",
       "      <td>USD</td>\n",
       "      <td>Hedge Funds</td>\n",
       "      <td>3</td>\n",
       "      <td>BBB King Street</td>\n",
       "      <td>Berlin A3B4</td>\n",
       "      <td>4</td>\n",
       "      <td>Germany</td>\n",
       "    </tr>\n",
       "  </tbody>\n",
       "</table>\n",
       "</div>"
      ],
      "text/plain": [
       "   firm_id                  firm_name  asset_class_id  aum_mn firm_currency  \\\n",
       "0        1        Large investment Co               1    1241           EUR   \n",
       "1        1        Large investment Co               1    1241           EUR   \n",
       "2        2   Investment Co subsidiary               2      42           EUR   \n",
       "3        3  Competing Alt Investments               5     140           USD   \n",
       "\n",
       "      asset_class  address_id                 line_1       line_2  country_id  \\\n",
       "0  Private Equity           1  123 Investment Street   Paris 1234           1   \n",
       "1  Private Equity           2          10 Second Rue   Paris 1234           1   \n",
       "2    Private Debt           2          10 Second Rue   Paris 1234           1   \n",
       "3     Hedge Funds           3        BBB King Street  Berlin A3B4           4   \n",
       "\n",
       "  country_name  \n",
       "0       France  \n",
       "1       France  \n",
       "2       France  \n",
       "3      Germany  "
      ]
     },
     "execution_count": 7,
     "metadata": {},
     "output_type": "execute_result"
    }
   ],
   "source": [
    "df_fact = (fact_firms.merge(dim_ac,  on= 'asset_class_id' , how='left')\n",
    "          .merge((dim_firmAdr.merge((dim_adr.merge(dim_geo, on = \"country_id\", how = \"left\")), on = 'address_id', how = 'left')), on = 'firm_id', how = 'left'))\n",
    "df_fact"
   ]
  },
  {
   "cell_type": "markdown",
   "metadata": {},
   "source": [
    "#### <font color=navy> Converting into Json\n",
    "</font>"
   ]
  },
  {
   "cell_type": "code",
   "execution_count": 8,
   "metadata": {},
   "outputs": [
    {
     "name": "stdout",
     "output_type": "stream",
     "text": [
      "[\n",
      "    {\n",
      "        \"firm_name\": \"Competing Alt Investments\",\n",
      "        \"asset_class\": \"Hedge Funds\",\n",
      "        \"aum_mn\": 140,\n",
      "        \"firm_currency\": \"USD\",\n",
      "        \"addresses\": [\n",
      "            {\n",
      "                \"address_id\": 3,\n",
      "                \"line_1\": \"BBB King Street\",\n",
      "                \"line_2\": \"Berlin A3B4\",\n",
      "                \"country_name\": \"Germany\"\n",
      "            }\n",
      "        ]\n",
      "    },\n",
      "    {\n",
      "        \"firm_name\": \"Investment Co subsidiary\",\n",
      "        \"asset_class\": \"Private Debt\",\n",
      "        \"aum_mn\": 42,\n",
      "        \"firm_currency\": \"EUR\",\n",
      "        \"addresses\": [\n",
      "            {\n",
      "                \"address_id\": 2,\n",
      "                \"line_1\": \"10 Second Rue\",\n",
      "                \"line_2\": \"Paris 1234\",\n",
      "                \"country_name\": \"France\"\n",
      "            }\n",
      "        ]\n",
      "    },\n",
      "    {\n",
      "        \"firm_name\": \"Large investment Co\",\n",
      "        \"asset_class\": \"Private Equity\",\n",
      "        \"aum_mn\": 1241,\n",
      "        \"firm_currency\": \"EUR\",\n",
      "        \"addresses\": [\n",
      "            {\n",
      "                \"address_id\": 1,\n",
      "                \"line_1\": \"123 Investment Street\",\n",
      "                \"line_2\": \"Paris 1234\",\n",
      "                \"country_name\": \"France\"\n",
      "            },\n",
      "            {\n",
      "                \"address_id\": 2,\n",
      "                \"line_1\": \"10 Second Rue\",\n",
      "                \"line_2\": \"Paris 1234\",\n",
      "                \"country_name\": \"France\"\n",
      "            }\n",
      "        ]\n",
      "    }\n",
      "]\n"
     ]
    }
   ],
   "source": [
    "json_facts = (df_fact.groupby(['firm_name','asset_class','aum_mn','firm_currency'], as_index = True)\n",
    "       .apply(lambda x: x[['address_id','line_1','line_2','country_name']].to_dict('records'))\n",
    "       .reset_index()\n",
    "       .rename(columns={0:'addresses'})\n",
    "       .to_json(orient='records'))   \n",
    "print(json.dumps(json.loads(json_facts), indent=4, sort_keys=False))"
   ]
  },
  {
   "cell_type": "markdown",
   "metadata": {},
   "source": [
    "## <font color=navy> Approach2: Creating tables using pandas\n",
    "</font>"
   ]
  },
  {
   "cell_type": "code",
   "execution_count": 9,
   "metadata": {},
   "outputs": [],
   "source": [
    "Mdim_firmAdr = pd.DataFrame({'firm_id':[1,1,2,3],\n",
    "                  'address_id':[1,2,2,3]}\n",
    "                  )\n",
    "Mdim_geo = pd.DataFrame({'country_id':[1,2,3,4],\n",
    "                  'country_name':['France','Spain','Italy','Germany']}\n",
    "                  )\n",
    "\n",
    "Mdim_ac =  pd.DataFrame({'asset_class_id':[1,2,3,4,5,6],\n",
    "                  'asset_class':['Private Equity','Private Debt','Natural Resources','Infrastructure','Hedge Funds','Real Estate']}\n",
    "                  )\n",
    "\n",
    "Mdim_adr =  pd.DataFrame({'address_id':[1,2,3],\n",
    "                  'line_1':['123 Investment Street','10 Second Rue','BBB King Street'],\n",
    "                  'line_2':['Paris 1234','Paris 1234','Berlin A3B4'],\n",
    "                  'country_id':[1,1,4]}\n",
    "                  )\n",
    "\n",
    "Mfact_firms =  pd.DataFrame({'firm_id':[1,2,3],\n",
    "                  'firm_name':['Large investment Co','Investment Co subsidiary','Competing Alt Investments'],\n",
    "                  'asset_class_id':[1,2,5],\n",
    "                  'aum_mn':[1241,42,140],\n",
    "                  'firm_currency':['EUR','EUR','USD']}\n",
    "                  )"
   ]
  },
  {
   "cell_type": "code",
   "execution_count": 10,
   "metadata": {},
   "outputs": [
    {
     "data": {
      "text/html": [
       "<div>\n",
       "<style scoped>\n",
       "    .dataframe tbody tr th:only-of-type {\n",
       "        vertical-align: middle;\n",
       "    }\n",
       "\n",
       "    .dataframe tbody tr th {\n",
       "        vertical-align: top;\n",
       "    }\n",
       "\n",
       "    .dataframe thead th {\n",
       "        text-align: right;\n",
       "    }\n",
       "</style>\n",
       "<table border=\"1\" class=\"dataframe\">\n",
       "  <thead>\n",
       "    <tr style=\"text-align: right;\">\n",
       "      <th></th>\n",
       "      <th>firm_id</th>\n",
       "      <th>firm_name</th>\n",
       "      <th>asset_class_id</th>\n",
       "      <th>aum_mn</th>\n",
       "      <th>firm_currency</th>\n",
       "      <th>asset_class</th>\n",
       "      <th>address_id</th>\n",
       "      <th>line_1</th>\n",
       "      <th>line_2</th>\n",
       "      <th>country_id</th>\n",
       "      <th>country_name</th>\n",
       "    </tr>\n",
       "  </thead>\n",
       "  <tbody>\n",
       "    <tr>\n",
       "      <td>0</td>\n",
       "      <td>1</td>\n",
       "      <td>Large investment Co</td>\n",
       "      <td>1</td>\n",
       "      <td>1241</td>\n",
       "      <td>EUR</td>\n",
       "      <td>Private Equity</td>\n",
       "      <td>1</td>\n",
       "      <td>123 Investment Street</td>\n",
       "      <td>Paris 1234</td>\n",
       "      <td>1</td>\n",
       "      <td>France</td>\n",
       "    </tr>\n",
       "    <tr>\n",
       "      <td>1</td>\n",
       "      <td>1</td>\n",
       "      <td>Large investment Co</td>\n",
       "      <td>1</td>\n",
       "      <td>1241</td>\n",
       "      <td>EUR</td>\n",
       "      <td>Private Equity</td>\n",
       "      <td>2</td>\n",
       "      <td>10 Second Rue</td>\n",
       "      <td>Paris 1234</td>\n",
       "      <td>1</td>\n",
       "      <td>France</td>\n",
       "    </tr>\n",
       "    <tr>\n",
       "      <td>2</td>\n",
       "      <td>2</td>\n",
       "      <td>Investment Co subsidiary</td>\n",
       "      <td>2</td>\n",
       "      <td>42</td>\n",
       "      <td>EUR</td>\n",
       "      <td>Private Debt</td>\n",
       "      <td>2</td>\n",
       "      <td>10 Second Rue</td>\n",
       "      <td>Paris 1234</td>\n",
       "      <td>1</td>\n",
       "      <td>France</td>\n",
       "    </tr>\n",
       "    <tr>\n",
       "      <td>3</td>\n",
       "      <td>3</td>\n",
       "      <td>Competing Alt Investments</td>\n",
       "      <td>5</td>\n",
       "      <td>140</td>\n",
       "      <td>USD</td>\n",
       "      <td>Hedge Funds</td>\n",
       "      <td>3</td>\n",
       "      <td>BBB King Street</td>\n",
       "      <td>Berlin A3B4</td>\n",
       "      <td>4</td>\n",
       "      <td>Germany</td>\n",
       "    </tr>\n",
       "  </tbody>\n",
       "</table>\n",
       "</div>"
      ],
      "text/plain": [
       "   firm_id                  firm_name  asset_class_id  aum_mn firm_currency  \\\n",
       "0        1        Large investment Co               1    1241           EUR   \n",
       "1        1        Large investment Co               1    1241           EUR   \n",
       "2        2   Investment Co subsidiary               2      42           EUR   \n",
       "3        3  Competing Alt Investments               5     140           USD   \n",
       "\n",
       "      asset_class  address_id                 line_1       line_2  country_id  \\\n",
       "0  Private Equity           1  123 Investment Street   Paris 1234           1   \n",
       "1  Private Equity           2          10 Second Rue   Paris 1234           1   \n",
       "2    Private Debt           2          10 Second Rue   Paris 1234           1   \n",
       "3     Hedge Funds           3        BBB King Street  Berlin A3B4           4   \n",
       "\n",
       "  country_name  \n",
       "0       France  \n",
       "1       France  \n",
       "2       France  \n",
       "3      Germany  "
      ]
     },
     "execution_count": 10,
     "metadata": {},
     "output_type": "execute_result"
    }
   ],
   "source": [
    "mdf_fact = (Mfact_firms.merge(Mdim_ac,  on= 'asset_class_id' , how='left')\n",
    "              .merge((Mdim_firmAdr.merge((Mdim_adr.merge(Mdim_geo, on = \"country_id\", how = \"left\")), on = 'address_id', how = 'left')), on = 'firm_id', how = 'left'))\n",
    "mdf_fact"
   ]
  },
  {
   "cell_type": "code",
   "execution_count": 11,
   "metadata": {},
   "outputs": [
    {
     "name": "stdout",
     "output_type": "stream",
     "text": [
      "[\n",
      "    {\n",
      "        \"firm_name\": \"Competing Alt Investments\",\n",
      "        \"asset_class\": \"Hedge Funds\",\n",
      "        \"aum_mn\": 140,\n",
      "        \"firm_currency\": \"USD\",\n",
      "        \"addresses\": [\n",
      "            {\n",
      "                \"address_id\": 3,\n",
      "                \"line_1\": \"BBB King Street\",\n",
      "                \"line_2\": \"Berlin A3B4\",\n",
      "                \"country_name\": \"Germany\"\n",
      "            }\n",
      "        ]\n",
      "    },\n",
      "    {\n",
      "        \"firm_name\": \"Investment Co subsidiary\",\n",
      "        \"asset_class\": \"Private Debt\",\n",
      "        \"aum_mn\": 42,\n",
      "        \"firm_currency\": \"EUR\",\n",
      "        \"addresses\": [\n",
      "            {\n",
      "                \"address_id\": 2,\n",
      "                \"line_1\": \"10 Second Rue\",\n",
      "                \"line_2\": \"Paris 1234\",\n",
      "                \"country_name\": \"France\"\n",
      "            }\n",
      "        ]\n",
      "    },\n",
      "    {\n",
      "        \"firm_name\": \"Large investment Co\",\n",
      "        \"asset_class\": \"Private Equity\",\n",
      "        \"aum_mn\": 1241,\n",
      "        \"firm_currency\": \"EUR\",\n",
      "        \"addresses\": [\n",
      "            {\n",
      "                \"address_id\": 1,\n",
      "                \"line_1\": \"123 Investment Street\",\n",
      "                \"line_2\": \"Paris 1234\",\n",
      "                \"country_name\": \"France\"\n",
      "            },\n",
      "            {\n",
      "                \"address_id\": 2,\n",
      "                \"line_1\": \"10 Second Rue\",\n",
      "                \"line_2\": \"Paris 1234\",\n",
      "                \"country_name\": \"France\"\n",
      "            }\n",
      "        ]\n",
      "    }\n",
      "]\n"
     ]
    }
   ],
   "source": [
    "Mjson_facts = (mdf_fact.groupby(['firm_name','asset_class','aum_mn','firm_currency'], as_index = True)\n",
    "       .apply(lambda x: x[['address_id','line_1','line_2','country_name']].to_dict('records'))\n",
    "       .reset_index()\n",
    "       .rename(columns={0:'addresses'})\n",
    "       .to_json(orient='records'))   \n",
    "print(json.dumps(json.loads(Mjson_facts), indent=4, sort_keys=False))"
   ]
  },
  {
   "cell_type": "code",
   "execution_count": null,
   "metadata": {},
   "outputs": [],
   "source": []
  },
  {
   "cell_type": "code",
   "execution_count": null,
   "metadata": {},
   "outputs": [],
   "source": []
  }
 ],
 "metadata": {
  "kernelspec": {
   "display_name": "Python 3",
   "language": "python",
   "name": "python3"
  },
  "language_info": {
   "codemirror_mode": {
    "name": "ipython",
    "version": 3
   },
   "file_extension": ".py",
   "mimetype": "text/x-python",
   "name": "python",
   "nbconvert_exporter": "python",
   "pygments_lexer": "ipython3",
   "version": "3.7.4"
  }
 },
 "nbformat": 4,
 "nbformat_minor": 4
}
